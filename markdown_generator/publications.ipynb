{
 "cells": [
  {
   "cell_type": "markdown",
   "metadata": {
    "deletable": true,
    "editable": true
   },
   "source": [
    "# Publications markdown generator for academicpages\n",
    "\n",
    "Takes a TSV of publications with metadata and converts them for use with [academicpages.github.io](academicpages.github.io). This is an interactive Jupyter notebook ([see more info here](http://jupyter-notebook-beginner-guide.readthedocs.io/en/latest/what_is_jupyter.html)). The core python code is also in `publications.py`. Run either from the `markdown_generator` folder after replacing `publications.tsv` with one containing your data.\n",
    "\n",
    "TODO: Make this work with BibTex and other databases of citations, rather than Stuart's non-standard TSV format and citation style.\n"
   ]
  },
  {
   "cell_type": "markdown",
   "metadata": {},
   "source": [
    "## Data format\n",
    "\n",
    "The TSV needs to have the following columns: pub_date, title, venue, excerpt, citation, site_url, and paper_url, with a header at the top. \n",
    "\n",
    "- `excerpt` and `paper_url` can be blank, but the others must have values. \n",
    "- `pub_date` must be formatted as YYYY-MM-DD.\n",
    "- `url_slug` will be the descriptive part of the .md file and the permalink URL for the page about the paper. The .md file will be `YYYY-MM-DD-[url_slug].md` and the permalink will be `https://[yourdomain]/publications/YYYY-MM-DD-[url_slug]`\n",
    "\n",
    "This is how the raw file looks (it doesn't look pretty, use a spreadsheet or other program to edit and create)."
   ]
  },
  {
   "cell_type": "code",
   "execution_count": 15,
   "metadata": {
    "collapsed": false
   },
   "outputs": [
    {
     "name": "stdout",
     "output_type": "stream",
     "text": [
      "pub_date\ttitle\tvenue\texcerpt\tcitation\turl_slug\tpaper_url\tslides_url\n",
      "2022-03-24\tRatio of Hydrophobic Hydrophilic and Positive Negative Residues at Lipid Water Interface Influences Surface Expression and Channel Gating of TRPV1\tThe Journal of Membrane Biology (2022)\tThis paper is about the number 1. The number 2 is left for future work.\tSaha, S., Mohanta, S., Das, R. et al. Ratio of Hydrophobic–Hydrophilic and Positive–Negative Residues at Lipid–Water-Interface Influences Surface Expression and Channel Gating of TRPV1. J Membrane Biol 255, 319–339 (2022). https://doi.org/10.1007/s00232-022-00243-z\tRole of LWI residues in channel gating of TRPV1\thttps://link.springer.com/article/10.1007/s00232-022-00243-z\thttps://www.biorxiv.org/content/10.1101/2020.09.04.272484v1.full.pdf\n",
      "2022-07-30\tCytochrome C interacts with the pathogenic mutational hotspot region of TRPV4 and forms complexes that differ in mutation and metal ion-sensitive manner\tBiochemical and Biophysical Research Communications (BBRC)\tThis paper is about the number 2. The number 3 is left for future work.\tDas R, Kumar A, Dalai R, Goswami C. Cytochrome C interacts with the pathogenic mutational hotspot region of TRPV4 and forms complexes that differ in mutation and metal ion-sensitive manner. Biochem Biophys Res Commun. 2022;611:172-178. doi:10.1016/j.bbrc.2022.04.066\tCytochrome C forms complexes with TRPV4\thttps://www.sciencedirect.com/science/article/abs/pii/S0006291X22005952\t\n",
      "2022-12-20\tTRPM8 as a potential target in neurodegenerative diseases\tAlzheimer's & Dementia®: The Journal of the Alzheimer's Association\tThis paper is about the number 3. The number 4 is left for future work.\tShikha, D., Dalai, R. and Goswami, C. (2022), TRPM8 as a potential target in neurodegenerative diseases. Alzheimer's Dement., 18: e068691. https://doi.org/10.1002/alz.068691\tTRPM8 as a potential target in neurodegenerative diseases\thttps://alz-journals.onlinelibrary.wiley.com/doi/10.1002/alz.068691\thttp://osoi-sloth.github.io/files/TRPM8-Alz.pdf"
     ]
    }
   ],
   "source": [
    "!cat publications.tsv"
   ]
  },
  {
   "cell_type": "markdown",
   "metadata": {},
   "source": [
    "## Import pandas\n",
    "\n",
    "We are using the very handy pandas library for dataframes."
   ]
  },
  {
   "cell_type": "code",
   "execution_count": 16,
   "metadata": {
    "collapsed": true,
    "deletable": true,
    "editable": true
   },
   "outputs": [],
   "source": [
    "import pandas as pd"
   ]
  },
  {
   "cell_type": "markdown",
   "metadata": {},
   "source": [
    "## Import TSV\n",
    "\n",
    "Pandas makes this easy with the read_csv function. We are using a TSV, so we specify the separator as a tab, or `\\t`.\n",
    "\n",
    "I found it important to put this data in a tab-separated values format, because there are a lot of commas in this kind of data and comma-separated values can get messed up. However, you can modify the import statement, as pandas also has read_excel(), read_json(), and others."
   ]
  },
  {
   "cell_type": "code",
   "execution_count": 17,
   "metadata": {
    "collapsed": false,
    "deletable": true,
    "editable": true
   },
   "outputs": [
    {
     "data": {
      "text/html": [
       "<div>\n",
       "<style scoped>\n",
       "    .dataframe tbody tr th:only-of-type {\n",
       "        vertical-align: middle;\n",
       "    }\n",
       "\n",
       "    .dataframe tbody tr th {\n",
       "        vertical-align: top;\n",
       "    }\n",
       "\n",
       "    .dataframe thead th {\n",
       "        text-align: right;\n",
       "    }\n",
       "</style>\n",
       "<table border=\"1\" class=\"dataframe\">\n",
       "  <thead>\n",
       "    <tr style=\"text-align: right;\">\n",
       "      <th></th>\n",
       "      <th>pub_date</th>\n",
       "      <th>title</th>\n",
       "      <th>venue</th>\n",
       "      <th>excerpt</th>\n",
       "      <th>citation</th>\n",
       "      <th>url_slug</th>\n",
       "      <th>paper_url</th>\n",
       "      <th>slides_url</th>\n",
       "    </tr>\n",
       "  </thead>\n",
       "  <tbody>\n",
       "    <tr>\n",
       "      <th>0</th>\n",
       "      <td>2022-03-24</td>\n",
       "      <td>Ratio of Hydrophobic Hydrophilic and Positive ...</td>\n",
       "      <td>The Journal of Membrane Biology (2022)</td>\n",
       "      <td>This paper is about the number 1. The number 2...</td>\n",
       "      <td>Saha, S., Mohanta, S., Das, R. et al. Ratio of...</td>\n",
       "      <td>Role of LWI residues in channel gating of TRPV1</td>\n",
       "      <td>https://link.springer.com/article/10.1007/s002...</td>\n",
       "      <td>https://www.biorxiv.org/content/10.1101/2020.0...</td>\n",
       "    </tr>\n",
       "    <tr>\n",
       "      <th>1</th>\n",
       "      <td>2022-07-30</td>\n",
       "      <td>Cytochrome C interacts with the pathogenic mut...</td>\n",
       "      <td>Biochemical and Biophysical Research Communica...</td>\n",
       "      <td>This paper is about the number 2. The number 3...</td>\n",
       "      <td>Das R, Kumar A, Dalai R, Goswami C. Cytochrome...</td>\n",
       "      <td>Cytochrome C forms complexes with TRPV4</td>\n",
       "      <td>https://www.sciencedirect.com/science/article/...</td>\n",
       "      <td>NaN</td>\n",
       "    </tr>\n",
       "    <tr>\n",
       "      <th>2</th>\n",
       "      <td>2022-12-20</td>\n",
       "      <td>TRPM8 as a potential target in neurodegenerati...</td>\n",
       "      <td>Alzheimer's &amp; Dementia®: The Journal of the Al...</td>\n",
       "      <td>This paper is about the number 3. The number 4...</td>\n",
       "      <td>Shikha, D., Dalai, R. and Goswami, C. (2022), ...</td>\n",
       "      <td>TRPM8 as a potential target in neurodegenerati...</td>\n",
       "      <td>https://alz-journals.onlinelibrary.wiley.com/d...</td>\n",
       "      <td>http://osoi-sloth.github.io/files/TRPM8-Alz.pdf</td>\n",
       "    </tr>\n",
       "  </tbody>\n",
       "</table>\n",
       "</div>"
      ],
      "text/plain": [
       "     pub_date                                              title  \\\n",
       "0  2022-03-24  Ratio of Hydrophobic Hydrophilic and Positive ...   \n",
       "1  2022-07-30  Cytochrome C interacts with the pathogenic mut...   \n",
       "2  2022-12-20  TRPM8 as a potential target in neurodegenerati...   \n",
       "\n",
       "                                               venue  \\\n",
       "0             The Journal of Membrane Biology (2022)   \n",
       "1  Biochemical and Biophysical Research Communica...   \n",
       "2  Alzheimer's & Dementia®: The Journal of the Al...   \n",
       "\n",
       "                                             excerpt  \\\n",
       "0  This paper is about the number 1. The number 2...   \n",
       "1  This paper is about the number 2. The number 3...   \n",
       "2  This paper is about the number 3. The number 4...   \n",
       "\n",
       "                                            citation  \\\n",
       "0  Saha, S., Mohanta, S., Das, R. et al. Ratio of...   \n",
       "1  Das R, Kumar A, Dalai R, Goswami C. Cytochrome...   \n",
       "2  Shikha, D., Dalai, R. and Goswami, C. (2022), ...   \n",
       "\n",
       "                                            url_slug  \\\n",
       "0    Role of LWI residues in channel gating of TRPV1   \n",
       "1            Cytochrome C forms complexes with TRPV4   \n",
       "2  TRPM8 as a potential target in neurodegenerati...   \n",
       "\n",
       "                                           paper_url  \\\n",
       "0  https://link.springer.com/article/10.1007/s002...   \n",
       "1  https://www.sciencedirect.com/science/article/...   \n",
       "2  https://alz-journals.onlinelibrary.wiley.com/d...   \n",
       "\n",
       "                                          slides_url  \n",
       "0  https://www.biorxiv.org/content/10.1101/2020.0...  \n",
       "1                                                NaN  \n",
       "2    http://osoi-sloth.github.io/files/TRPM8-Alz.pdf  "
      ]
     },
     "execution_count": 17,
     "metadata": {},
     "output_type": "execute_result"
    }
   ],
   "source": [
    "publications = pd.read_csv(\"publications.tsv\", sep=\"\\t\", header=0)\n",
    "publications\n"
   ]
  },
  {
   "cell_type": "markdown",
   "metadata": {},
   "source": [
    "## Escape special characters\n",
    "\n",
    "YAML is very picky about how it takes a valid string, so we are replacing single and double quotes (and ampersands) with their HTML encoded equivilents. This makes them look not so readable in raw format, but they are parsed and rendered nicely."
   ]
  },
  {
   "cell_type": "code",
   "execution_count": 18,
   "metadata": {
    "collapsed": true,
    "deletable": true,
    "editable": true
   },
   "outputs": [],
   "source": [
    "html_escape_table = {\n",
    "    \"&\": \"&amp;\",\n",
    "    '\"': \"&quot;\",\n",
    "    \"'\": \"&apos;\"\n",
    "    }\n",
    "\n",
    "def html_escape(text):\n",
    "    \"\"\"Produce entities within text.\"\"\"\n",
    "    return \"\".join(html_escape_table.get(c,c) for c in text)"
   ]
  },
  {
   "cell_type": "markdown",
   "metadata": {},
   "source": [
    "## Creating the markdown files\n",
    "\n",
    "This is where the heavy lifting is done. This loops through all the rows in the TSV dataframe, then starts to concatentate a big string (```md```) that contains the markdown for each type. It does the YAML metadata first, then does the description for the individual page."
   ]
  },
  {
   "cell_type": "code",
   "execution_count": 19,
   "metadata": {
    "collapsed": false,
    "deletable": true,
    "editable": true
   },
   "outputs": [],
   "source": [
    "import os\n",
    "for row, item in publications.iterrows():\n",
    "    \n",
    "    md_filename = str(item.pub_date) + \"-\" + item.url_slug + \".md\"\n",
    "    html_filename = str(item.pub_date) + \"-\" + item.url_slug\n",
    "    year = item.pub_date[:4]\n",
    "    \n",
    "    ## YAML variables\n",
    "    \n",
    "    md = \"---\\ntitle: \\\"\"   + item.title + '\"\\n'\n",
    "    \n",
    "    md += \"\"\"collection: publications\"\"\"\n",
    "    \n",
    "    md += \"\"\"\\npermalink: /publication/\"\"\" + html_filename\n",
    "    \n",
    "    if len(str(item.excerpt)) > 5:\n",
    "        md += \"\\nexcerpt: '\" + html_escape(item.excerpt) + \"'\"\n",
    "    \n",
    "    md += \"\\ndate: \" + str(item.pub_date) \n",
    "    \n",
    "    md += \"\\nvenue: '\" + html_escape(item.venue) + \"'\"\n",
    "    \n",
    "    if len(str(item.slides_url)) > 5:\n",
    "        md += \"\\nslidesurl: '\" + item.slides_url + \"'\"\n",
    "\n",
    "    if len(str(item.paper_url)) > 5:\n",
    "        md += \"\\npaperurl: '\" + item.paper_url + \"'\"\n",
    "    \n",
    "    md += \"\\ncitation: '\" + html_escape(item.citation) + \"'\"\n",
    "    \n",
    "    md += \"\\n---\"\n",
    "    \n",
    "    ## Markdown description for individual page\n",
    "        \n",
    "    if len(str(item.excerpt)) > 5:\n",
    "        md += \"\\n\" + html_escape(item.excerpt) + \"\\n\"\n",
    "\n",
    "    if len(str(item.slides_url)) > 5:\n",
    "        md += \"\\n[Download PDF here](\" + item.slides_url + \")\\n\" \n",
    "\n",
    "    if len(str(item.paper_url)) > 5:\n",
    "        md += \"\\n[Link to Publication](\" + item.paper_url + \")\\n\" \n",
    "        \n",
    "    md += \"\\nRecommended citation: \" + item.citation\n",
    "    \n",
    "    md_filename = os.path.basename(md_filename)\n",
    "       \n",
    "    with open(\"../_publications/\" + md_filename, 'w') as f:\n",
    "        f.write(md)"
   ]
  },
  {
   "cell_type": "markdown",
   "metadata": {},
   "source": [
    "These files are in the publications directory, one directory below where we're working from."
   ]
  },
  {
   "cell_type": "code",
   "execution_count": 20,
   "metadata": {
    "collapsed": false,
    "deletable": true,
    "editable": true
   },
   "outputs": [
    {
     "name": "stdout",
     "output_type": "stream",
     "text": [
      "'2022-03-24-Role of LWI residues in channel gating of TRPV1.md'\n",
      "'2022-07-30-Cytochrome C forms complexes with TRPV4.md'\n",
      "'2022-12-20-TRPM8 as a potential target in neurodegenerative diseases.md'\n"
     ]
    }
   ],
   "source": [
    "!ls ../_publications/"
   ]
  },
  {
   "cell_type": "code",
   "execution_count": 21,
   "metadata": {
    "collapsed": false,
    "deletable": true,
    "editable": true
   },
   "outputs": [
    {
     "name": "stdout",
     "output_type": "stream",
     "text": [
      "cat: ../_publications/2022-07-30-Cythochrome: No such file or directory\n",
      "cat: C: No such file or directory\n",
      "cat: forms: No such file or directory\n",
      "cat: complex: No such file or directory\n",
      "cat: with: No such file or directory\n",
      "cat: TRPV4.md: No such file or directory\n"
     ]
    }
   ],
   "source": [
    "!cat ../_publications/2022-07-30-Cythochrome C forms complex with TRPV4.md"
   ]
  },
  {
   "cell_type": "code",
   "execution_count": null,
   "metadata": {
    "collapsed": true,
    "deletable": true,
    "editable": true
   },
   "outputs": [],
   "source": []
  }
 ],
 "metadata": {
  "kernelspec": {
   "display_name": "Python 3",
   "language": "python",
   "name": "python3"
  },
  "language_info": {
   "codemirror_mode": {
    "name": "ipython",
    "version": 3
   },
   "file_extension": ".py",
   "mimetype": "text/x-python",
   "name": "python",
   "nbconvert_exporter": "python",
   "pygments_lexer": "ipython3",
   "version": "3.10.14"
  },
  "vscode": {
   "interpreter": {
    "hash": "e7370f93d1d0cde622a1f8e1c04877d8463912d04d973331ad4851f04de6915a"
   }
  }
 },
 "nbformat": 4,
 "nbformat_minor": 0
}
